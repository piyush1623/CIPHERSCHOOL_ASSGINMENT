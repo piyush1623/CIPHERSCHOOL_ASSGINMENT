{
 "cells": [
  {
   "cell_type": "code",
   "execution_count": 1,
   "metadata": {},
   "outputs": [
    {
     "name": "stdout",
     "output_type": "stream",
     "text": [
      "MONEY HEIST SCHOOL...BELLA CIACO\n",
      "enter the namedenver berlin rio nairobi\n",
      "enter the mark70 100 56 100\n",
      "{'denver': 70, 'berlin': 100, 'rio': 56, 'nairobi': 100}\n",
      "[('rio', 56), ('denver', 70), ('berlin', 100), ('nairobi', 100)]\n"
     ]
    }
   ],
   "source": [
    "#Q6:ENTER THE USER DEFINED DICTONARY THAT STORE NAME AND MARKS AND SORT ACCORDING MARKS\n",
    "print(\"MONEY HEIST SCHOOL...BELLA CIACO\")\n",
    "n = input(\"enter the name\")\n",
    "n = n.split(\" \")\n",
    "m =  input(\"enter the mark\")\n",
    "m = map(int,m.split(\" \"))\n",
    "x = dict(zip(n,m))\n",
    "print(x)\n",
    "d = sorted(x.items(),key=lambda x:x[1])\n",
    "print(d)\n"
   ]
  },
  {
   "cell_type": "code",
   "execution_count": 2,
   "metadata": {},
   "outputs": [
    {
     "name": "stdout",
     "output_type": "stream",
     "text": [
      "enter the number12\n",
      "0\n"
     ]
    }
   ],
   "source": [
    "#Q4:if number is even print 1 or number is odd print 0 \n",
    "enter_no = int(input(\"enter the number\"))\n",
    "#ternary operator\n",
    "print(\"1\" if enter_no%2 == 1 else \"0\")"
   ]
  },
  {
   "cell_type": "code",
   "execution_count": 3,
   "metadata": {},
   "outputs": [
    {
     "name": "stdout",
     "output_type": "stream",
     "text": [
      "enter the list1223\n",
      "{'3', '2', '1'}\n"
     ]
    }
   ],
   "source": [
    "#Q1 remove duplication in list\n",
    "num = list((input(\"enter the list\")))\n",
    "l1 = num\n",
    "l2 = set(l1)\n",
    "print(l2)"
   ]
  },
  {
   "cell_type": "code",
   "execution_count": 1,
   "metadata": {},
   "outputs": [
    {
     "name": "stdout",
     "output_type": "stream",
     "text": [
      "enter the number1324\n",
      "enter the number4567\n",
      "['1', '2', '3', '4', '4', '5', '6', '7']\n"
     ]
    }
   ],
   "source": [
    "#Q5 wap have two intger A&B,merge and sort\n",
    "a = list(input(\"enter the number\"))\n",
    "b = list(input(\"enter the number\"))\n",
    "c = []\n",
    "c = a+b\n",
    "c.sort()\n",
    "print(c)"
   ]
  },
  {
   "cell_type": "code",
   "execution_count": 2,
   "metadata": {},
   "outputs": [
    {
     "name": "stdout",
     "output_type": "stream",
     "text": [
      "enter the number5\n",
      "enter the ithbit1\n",
      "2\n",
      "number is 7\n"
     ]
    }
   ],
   "source": [
    "#Q3 magical number\n",
    "x = int(input(\"enter the number\"))\n",
    "i = int(input(\"enter the ithbit\"))\n",
    "m = 1<<i\n",
    "print(m)\n",
    "n=x | m\n",
    "print(\"number is\",n)"
   ]
  },
  {
   "cell_type": "code",
   "execution_count": 3,
   "metadata": {},
   "outputs": [
    {
     "name": "stdout",
     "output_type": "stream",
     "text": [
      "enter the number1 2 3 4\n",
      "(1, 2, 3, 4)\n",
      "sum of list is: 10\n",
      "max number is: 4\n",
      "min number is: 1\n"
     ]
    }
   ],
   "source": [
    "#Q2 \n",
    "a = input(\"enter the number\")\n",
    "t = tuple(map(int,a.split(\" \")))\n",
    "print(t)\n",
    "a =sum(t)\n",
    "print(\"sum of list is:\",a)\n",
    "b = max(t)\n",
    "print(\"max number is:\",b)\n",
    "c = min(t)\n",
    "print(\"min number is:\",c)"
   ]
  },
  {
   "cell_type": "code",
   "execution_count": null,
   "metadata": {},
   "outputs": [],
   "source": []
  },
  {
   "cell_type": "code",
   "execution_count": null,
   "metadata": {},
   "outputs": [],
   "source": []
  }
 ],
 "metadata": {
  "kernelspec": {
   "display_name": "Python 3",
   "language": "python",
   "name": "python3"
  },
  "language_info": {
   "codemirror_mode": {
    "name": "ipython",
    "version": 3
   },
   "file_extension": ".py",
   "mimetype": "text/x-python",
   "name": "python",
   "nbconvert_exporter": "python",
   "pygments_lexer": "ipython3",
   "version": "3.7.6"
  }
 },
 "nbformat": 4,
 "nbformat_minor": 4
}
